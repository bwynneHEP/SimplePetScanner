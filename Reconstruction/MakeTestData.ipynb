{
 "cells": [
  {
   "cell_type": "code",
   "execution_count": 1,
   "metadata": {},
   "outputs": [],
   "source": [
    "import sys\n",
    "sys.path.append('../analysis_v2/')\n",
    "import SiemensQuadraProperties as sqp\n",
    "import CoincidenceGeneration as cg\n",
    "import SimulationDataset as sd\n",
    "import PhysicsConstants as pc\n",
    "import GATEfileWriter as gf\n",
    "\n",
    "import time\n",
    "\n",
    "import matplotlib.pyplot as plt\n",
    "params = {'legend.fontsize': 15,\n",
    "          'legend.title_fontsize': 15,\n",
    "          'legend.loc': \"upper left\",\n",
    "          'axes.labelsize': 15,\n",
    "          'xtick.labelsize': 15,\n",
    "          'ytick.labelsize': 15}\n",
    "plt.rcParams.update(params)\n",
    "\n",
    "# Fix random seed for reproducibility, or leave blank to allow the results to vary\n",
    "import numpy as np\n",
    "RNG = np.random.default_rng(1234)\n",
    "\n",
    "# Set batch size for coincidence generation\n",
    "# Larger batches will use more RAM, and will eventually become inefficient due to wasted events\n",
    "# Smaller batches are inefficient due to overheads\n",
    "# 256-1024 seems to be about right\n",
    "BATCH_SIZE=1024"
   ]
  },
  {
   "cell_type": "markdown",
   "metadata": {},
   "source": [
    "Using an analogous structure to the NECR notebook, but this just creates a single data sample, and then saves it in a GATE-compatible ROOT file"
   ]
  },
  {
   "cell_type": "code",
   "execution_count": 2,
   "metadata": {},
   "outputs": [
    {
     "name": "stdout",
     "output_type": "stream",
     "text": [
      "Skipping simulation since output files (testReconstructionData) exist\n"
     ]
    }
   ],
   "source": [
    "# Simulation parameters\n",
    "detectorLength = 1024\n",
    "phantomLength = 700\n",
    "datasetSize = 1000000\n",
    "siemensEmin = 435.0\n",
    "siemensEmax = 585.0\n",
    "detectorMaterial = \"LSO\"\n",
    "timeSec = 0\n",
    "fileName = \"testReconstructionData\"\n",
    "\n",
    "# Check if sim already done\n",
    "import os\n",
    "if os.path.isfile( fileName + \".root\" ) and os.path.isfile( fileName + \".hroot\" ):\n",
    "    print( \"Skipping simulation since output files (\" + fileName + \") exist\" )\n",
    "else:\n",
    "    start = time.time_ns()\n",
    "    \n",
    "    # Make data samples\n",
    "    # Have to use the full-detail (Crystal) version of the geometry to get the GATE module IDs\n",
    "    # 1) High activity offset\n",
    "    tracer1Data = sd.CreateDataset( detectorLength, \"SiemensCrystal\", phantomLength, \"LinearF18\", datasetSize, siemensEmin, siemensEmax, detectorMaterial, UseNumpy=True,\n",
    "                                   SourceOffset=30, STIRheader=fileName+\".hroot\" )\n",
    "    tracer1Activity = pc.TracerActivityAtTime( 1100E5, timeSec, \"F18\" )\n",
    "    \n",
    "    # 2) low activity central\n",
    "    tracer2Data = sd.CreateDataset( detectorLength, \"SiemensCrystal\", phantomLength, \"LinearF18\", datasetSize, siemensEmin, siemensEmax, detectorMaterial, UseNumpy=True,\n",
    "                                   SourceOffset=0 )\n",
    "    tracer2Activity = pc.TracerActivityAtTime( 400E5, timeSec, \"F18\" )\n",
    "    \n",
    "    # 3) Intrinsic background\n",
    "    crystalData = sd.CreateDataset( detectorLength, \"SiemensCrystal\", phantomLength, \"Siemens\", datasetSize, siemensEmin, siemensEmax, detectorMaterial, UseNumpy=True )\n",
    "    crystalActivity = sqp.Lu176decaysInMass( sqp.DetectorMass(detectorMaterial) )\n",
    "    \n",
    "    # Create a moduleID lookup table\n",
    "    moduleIDs = tracer1Data.GetModuleIDs()\n",
    "    moduleIDs.update( tracer2Data.GetModuleIDs() )\n",
    "    moduleIDs.update( crystalData.GetModuleIDs() )\n",
    "    \n",
    "    end = time.time_ns()\n",
    "    print( \"Photon simulation (if needed) and data loading: \" + str( (end-start)/1e9 ) + \"s\" )\n",
    "    start = time.time_ns()\n",
    "    \n",
    "    # Assemble data sources, including crystal intrinsic background\n",
    "    activityList = [ tracer1Activity, tracer2Activity, crystalActivity ]\n",
    "    dataList = [ tracer1Data, tracer2Data, crystalData ]\n",
    "    \n",
    "    # Create a generator object that will simulate radioactive decays and load Geant4 events\n",
    "    generator = cg.GenerateCoincidences( BATCH_SIZE, activityList, dataList, RNG, CoincidenceWindow=4.7, SimulationWindow=2E9, \\\n",
    "                                         MultiWindow=False, EnergyResolution=0.0, EnergyMin=0.0, EnergyMax=0.0, TimeResolution=0.0 )\n",
    "    \n",
    "    # Save photons to a GATE format file\n",
    "    gf.GATEfromGenerator( BATCH_SIZE, generator, fileName+\".root\", moduleIDs, sqp.DetectorRadius(), PairMode=\"Exclusive\", ZMin=-325.0, ZMax=325 )\n",
    "    \n",
    "    end = time.time_ns()\n",
    "    print( \"Coincidence generation and writing: \" + str( (end-start)/1e9 ) + \"s\" )"
   ]
  },
  {
   "cell_type": "code",
   "execution_count": 3,
   "metadata": {},
   "outputs": [
    {
     "name": "stdout",
     "output_type": "stream",
     "text": [
      "Number of rings\n",
      "Number of detectors per ring\n",
      "Inner ring diameter (cm)\n",
      "Average depth of interaction (cm)\n",
      "Distance between rings (cm)\n",
      "Default bin size (cm)\n",
      "View offset (degrees)\n",
      "Maximum number of non-arc-corrected bins\n",
      "Default number of arc-corrected bins\n",
      "number of submodules_Y\n",
      "number of submodules_Z\n",
      "number of crystals_Z\n",
      "number of crystals_Y\n",
      "Number of rings\n",
      "number of crystals_Y\n",
      "\n",
      "INFO: InputStreamFromROOTFile: Processing data with the following event type inclusions:\n",
      "  Unscattered from same eventID:        1\n",
      "  Unscattered from different eventIDs:  0\n",
      "  Scattered from same eventID:          0\n",
      "  Scattered different eventIDs:         0\n",
      "\n",
      "INFO: CListModeDataROOT: TOF information is missing. Set relevant keywords if you need TOF:\n",
      "\tMaximum number of (unmashed) TOF time bins\n",
      "\tSize of unmashed TOF time bins (ps)\n",
      "\tTOF timing resolution (ps)\n",
      "\n",
      "INFO: CListModeDataROOT: used ROOT file testReconstructionData.root\n",
      "\n",
      "INFO: Setting energy window keys as in STIR3.0\n",
      "\n",
      "INFO: Interfile warning: I did not recognise the scanner from 'originating_system' (). Hopefully there is enough information present. I will check this now.\n",
      "\n",
      "INFO: Interfile parsing ended up with the following scanner:\n",
      "Scanner parameters:=\n",
      "  Scanner type := \n",
      "  Number of rings                          := 320\n",
      "  Number of detectors per ring             := 760\n",
      "  Inner ring diameter (cm)                 := 82\n",
      "  Average depth of interaction (cm)        := 0.25\n",
      "  Distance between rings (cm)              := 0.32\n",
      "  Default bin size (cm)                    := 0.32\n",
      "  View offset (degrees)                    := 0\n",
      "  Maximum number of non-arc-corrected bins := 381\n",
      "  Default number of arc-corrected bins     := 331\n",
      "  Number of blocks per bucket in transaxial direction         := 1\n",
      "  Number of blocks per bucket in axial direction              := 32\n",
      "  Number of crystals per block in axial direction             := 10\n",
      "  Number of crystals per block in transaxial direction        := 20\n",
      "  Number of detector layers                                   := 1\n",
      "  Number of crystals per singles unit in axial direction      := 320\n",
      "  Number of crystals per singles unit in transaxial direction := 20\n",
      "  Scanner geometry (BlocksOnCylindrical/Cylindrical/Generic)  := Cylindrical\n",
      "End scanner parameters:=\n",
      "\n",
      "\n"
     ]
    },
    {
     "name": "stderr",
     "output_type": "stream",
     "text": [
      "\n",
      "WARNING: KeyParser warning: unrecognized keyword: seed\n",
      "\n",
      "\n",
      "WARNING: CListModeDataROOT: Trying to figure out the scanner geometry from the information given in the ROOT header file.\n",
      "\n",
      "WARNING: Scanner::get_scanner_from_name: scanner'' not found\n",
      "\n",
      "WARNING: Scanner: maximum number of timing positions is not yet known. We can only handle non-TOF.\n",
      "\n",
      "WARNING: LmToProjData: num_events_to_store has been selected. The frame duration in the Interfile header will be incorrect!\n",
      "LmToProjData NOT Using FRAME_BASED_DT_CORR\n",
      "lm to projdata parameters :=\n",
      "input file := testReconstructionData.hroot\n",
      "template projdata := testReconstructionData.hs\n",
      "frame definition file := \n",
      "num events to store := -1\n",
      "output filename prefix := ./testSino\n",
      "bin normalisation type for pre-normalisation := None\n",
      "\n",
      "bin normalisation type for post-normalisation := None\n",
      "\n",
      "maximum absolute segment number to process := 0\n",
      "do pre normalisation := 0\n",
      "num tof bins in memory := 1\n",
      "num segments in memory := 1\n",
      "store prompts := 1\n",
      "store delayeds := 1\n",
      "list event coordinates := 0\n",
      "end := \n",
      "\n",
      "Processing time frame 1\n"
     ]
    },
    {
     "name": "stdout",
     "output_type": "stream",
     "text": [
      "12000000 events stored"
     ]
    },
    {
     "name": "stderr",
     "output_type": "stream",
     "text": [
      "\n",
      "Number of prompts stored in this time period : 12423700\n",
      "Number of delayeds stored in this time period: 0\n",
      "Last stored event was recorded before time-tick at 0 secs\n",
      "Total number of counts (either prompts/trues/delayeds) stored: 12423700\n",
      "\n",
      "This took 7.15s CPU time.\n"
     ]
    }
   ],
   "source": [
    "import STIRreconstruction as sr\n",
    "\n",
    "sinogramName = \"testSino\"\n",
    "sr.CreateSinogram( fileName, sinogramName )"
   ]
  },
  {
   "cell_type": "code",
   "execution_count": null,
   "metadata": {},
   "outputs": [],
   "source": []
  }
 ],
 "metadata": {
  "kernelspec": {
   "display_name": "basicAnalysis",
   "language": "python",
   "name": "basicanalysis"
  },
  "language_info": {
   "codemirror_mode": {
    "name": "ipython",
    "version": 3
   },
   "file_extension": ".py",
   "mimetype": "text/x-python",
   "name": "python",
   "nbconvert_exporter": "python",
   "pygments_lexer": "ipython3",
   "version": "3.13.7"
  }
 },
 "nbformat": 4,
 "nbformat_minor": 4
}
